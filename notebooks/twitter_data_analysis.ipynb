{
 "cells": [
  {
   "cell_type": "code",
   "execution_count": 2,
   "metadata": {},
   "outputs": [],
   "source": [
    "from pathlib import Path\n",
    "import src\n",
    "import requests\n",
    "import json\n",
    "project_dir = Path(src.__file__).parents[1]\n",
    "data_dir = project_dir / 'data'"
   ]
  },
  {
   "cell_type": "code",
   "execution_count": null,
   "metadata": {},
   "outputs": [],
   "source": [
    "!export CONSUMER_KEY='0p2Ye7jZix23rLHfHRSUkfGjN'\n",
    "!export CONSUMER_SECRET='rHrCnjHO5euksiCYaZhn5LU4PLRK0HIev7sHfZz8kfIcgZP7F5'\n",
    "!export BEARER_TOKEN='AAAAAAAAAAAAAAAAAAAAADhvbwEAAAAA7phJAvPfSKv%2BIMzu6iwqwIzFcbY%3DFw8toPlg3zG0wunaIn7WSr9IdKHHXHN7E6fdVZ08JJfRclrLro'"
   ]
  },
  {
   "cell_type": "code",
   "execution_count": 18,
   "metadata": {},
   "outputs": [],
   "source": [
    "bearer_token = 'AAAAAAAAAAAAAAAAAAAAADhvbwEAAAAA7phJAvPfSKv%2BIMzu6iwqwIzFcbY%3DFw8toPlg3zG0wunaIn7WSr9IdKHHXHN7E6fdVZ08JJfRclrLro'\n",
    "search_url = \"https://api.twitter.com/2/tweets/search/recent\"\n",
    "query_params = {'query': '(from:twitterdev -is:retweet) OR #twitterdev','tweet.fields': 'author_id'}"
   ]
  },
  {
   "cell_type": "code",
   "execution_count": 16,
   "metadata": {},
   "outputs": [],
   "source": [
    "def bearer_oauth(r):\n",
    "    \"\"\"\n",
    "    Method required by bearer token authentication.\n",
    "    \"\"\"\n",
    "    r.headers[\"Authorization\"] = f\"Bearer {bearer_token}\"\n",
    "    r.headers[\"User-Agent\"] = \"v2FullArchiveSearchPython\"\n",
    "    return r\n",
    "\n",
    "\n",
    "def connect_to_endpoint(url, params):\n",
    "    response = requests.request(\"GET\", url, auth=bearer_oauth, params=params)\n",
    "    print(response.status_code)\n",
    "    if response.status_code != 200:\n",
    "        raise Exception(response.status_code, response.text)\n",
    "    return response.json()\n",
    "\n",
    "\n",
    "def create_url():\n",
    "    tweet_fields = \"tweet.fields=lang,author_id\"\n",
    "    # Tweet fields are adjustable.\n",
    "    # Options include:\n",
    "    # attachments, author_id, context_annotations,\n",
    "    # conversation_id, created_at, entities, geo, id,\n",
    "    # in_reply_to_user_id, lang, non_public_metrics, organic_metrics,\n",
    "    # possibly_sensitive, promoted_metrics, public_metrics, referenced_tweets,\n",
    "    # source, text, and withheld\n",
    "    ids = \"ids=1278747501642657792,1255542774432063488\"\n",
    "    # You can adjust ids to include a single Tweets.\n",
    "    # Or you can add to up to 100 comma-separated IDs\n",
    "    url = \"https://api.twitter.com/2/tweets?{}&{}\".format(ids, tweet_fields)\n",
    "    return url\n"
   ]
  },
  {
   "cell_type": "code",
   "execution_count": 20,
   "metadata": {},
   "outputs": [
    {
     "name": "stdout",
     "output_type": "stream",
     "text": [
      "200\n",
      "{\n",
      "    \"data\": [\n",
      "        {\n",
      "            \"author_id\": \"1439240623199068162\",\n",
      "            \"id\": \"1518294100210073601\",\n",
      "            \"text\": \"Version 2 makes the most sense to me.\\n #TwitterDev #webdev #UI #UX  @TwitterDev \\n@Twitter @elonmusk #nobrainer \\ud83d\\udc4d\\ud83d\\udc4d\\ud83d\\ude0e\\ud83d\\udce2\\ud83d\\udcaf\"\n",
      "        },\n",
      "        {\n",
      "            \"author_id\": \"1268805305846181891\",\n",
      "            \"id\": \"1518267029605736454\",\n",
      "            \"text\": \"Twitter API can help you grow your business! Learn how to use it today! \\n#TwitterAPI #TwitterDev #TwitterAPIHowTo #webdevelopmentcompany #aprogramminglanguage #pythona Dutch Bottas Russell Norris Verstappen\"\n",
      "        },\n",
      "        {\n",
      "            \"author_id\": \"1438153591009812488\",\n",
      "            \"id\": \"1517968337464184833\",\n",
      "            \"text\": \"For those who single-handedly designed and built a full-fledged  app or database website, how long did it take?\\n\\nI mean not an app like \\\"I am Rich\\\" type \\ud83d\\ude02\\ud83d\\ude02\\ud83d\\ude2c\\ud83d\\ude48\\n\\n#flutter \\n#webdevelopment #programmer #webapp #twitterdev #infosec #innovation\"\n",
      "        },\n",
      "        {\n",
      "            \"author_id\": \"872425231389868032\",\n",
      "            \"id\": \"1517905935590920192\",\n",
      "            \"text\": \"RT @skolo_online: Twitter API is a powerful tool that can help you improve your Twitter experience. \\n#TwitterAPI #API #TwitterDev #programm\\u2026\"\n",
      "        },\n",
      "        {\n",
      "            \"author_id\": \"1268805305846181891\",\n",
      "            \"id\": \"1517904643317194752\",\n",
      "            \"text\": \"Twitter API is a powerful tool that can help you improve your Twitter experience. \\n#TwitterAPI #API #TwitterDev #programmingfundamentals #programmingdeveloper #freecourse Nuno Emirates Tomiyasu Ralf Leclerc\"\n",
      "        },\n",
      "        {\n",
      "            \"author_id\": \"2908580902\",\n",
      "            \"id\": \"1517691232998281217\",\n",
      "            \"text\": \"@TwitterDev #twitterdev #twitterapi https://t.co/1OK5IYdRgA\"\n",
      "        },\n",
      "        {\n",
      "            \"author_id\": \"17779535\",\n",
      "            \"id\": \"1517386745859698689\",\n",
      "            \"text\": \"Thanks to PUBG, I noticed the restoration. However, there is no report from Twitter official. There is no change on the status page. It's hard. #Twitter #TwitterDev\\nhttps://t.co/hRfqX66YHK\"\n",
      "        },\n",
      "        {\n",
      "            \"author_id\": \"2244994945\",\n",
      "            \"id\": \"1517172558587588610\",\n",
      "            \"text\": \"We\\u2019ve teamed up with AWS Data Exchange!\\n\\n\\ud83d\\udcca Tap into the global conversation around #cryptocurrency! Powered by the TwitterAPI, we\\u2019re launching a curated crypto dataset, which is currently available on AWS Data Exchange.\\n\\nGet started https://t.co/lhB6fnXlpa\"\n",
      "        },\n",
      "        {\n",
      "            \"author_id\": \"1390064477735985160\",\n",
      "            \"id\": \"1517092802152353796\",\n",
      "            \"text\": \"@andypiper Hey Andy, why not bring some fun to your next #TwitterDev meetup? You can place a box on each table and devs can ask each other questions \\ud83e\\udd13 We are more than happy to send you a couple of boxes free of charge\\ud83d\\udc4d https://t.co/aWEwKYrgjO\"\n",
      "        },\n",
      "        {\n",
      "            \"author_id\": \"1503498415942123520\",\n",
      "            \"id\": \"1516943910966341638\",\n",
      "            \"text\": \"RT @VcWild: Pe\\u00e7a para seu terminal lhe notificar daquela tarefa importante que voc\\u00ea j\\u00e1 j\\u00e1 vai esquecer\\n\\n#linux #terminal #bash #twitterdev\\u2026\"\n",
      "        }\n",
      "    ],\n",
      "    \"meta\": {\n",
      "        \"newest_id\": \"1518294100210073601\",\n",
      "        \"next_token\": \"b26v89c19zqg8o3fpytnjz569qztxo5v8mb0eqqd69tod\",\n",
      "        \"oldest_id\": \"1516943910966341638\",\n",
      "        \"result_count\": 10\n",
      "    }\n",
      "}\n"
     ]
    }
   ],
   "source": [
    "json_response = connect_to_endpoint(search_url, query_params)\n",
    "print(json.dumps(json_response, indent=4, sort_keys=True))"
   ]
  }
 ],
 "metadata": {
  "interpreter": {
   "hash": "54e7b08c51e9f0c183f3571ca10fa9c3d101cc7a0e8f684c7d328951a198f4ba"
  },
  "kernelspec": {
   "display_name": "Python 3.9.12 64-bit ('data-exploration')",
   "language": "python",
   "name": "python3"
  },
  "language_info": {
   "codemirror_mode": {
    "name": "ipython",
    "version": 3
   },
   "file_extension": ".py",
   "mimetype": "text/x-python",
   "name": "python",
   "nbconvert_exporter": "python",
   "pygments_lexer": "ipython3",
   "version": "3.9.12"
  },
  "orig_nbformat": 4
 },
 "nbformat": 4,
 "nbformat_minor": 2
}
