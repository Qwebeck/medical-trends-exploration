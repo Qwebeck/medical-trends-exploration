{
 "cells": [
  {
   "cell_type": "code",
   "execution_count": 113,
   "metadata": {},
   "outputs": [],
   "source": [
    "import src # make sure jupyter notebook is running in the environemnt with this project installed (pip install -r requirements.txt).\n",
    "import pandas as pd\n",
    "from pathlib import Path\n",
    "from scipy import stats\n",
    "\n",
    "project_dir = Path(src.__file__).parents[1]\n",
    "data_dir = project_dir / 'data'"
   ]
  },
  {
   "cell_type": "markdown",
   "metadata": {},
   "source": [
    "# Util function"
   ]
  },
  {
   "cell_type": "code",
   "execution_count": 75,
   "metadata": {},
   "outputs": [],
   "source": [
    "def humanize(snake_case_string):\n",
    "    return snake_case_string.replace('_', ' ')"
   ]
  },
  {
   "cell_type": "markdown",
   "metadata": {},
   "source": [
    "# Analiza kadry medycznej\n",
    "Na podstawie danych pobranych z BDL (bank danych ludności) prowadzonego przez główny urząd statystyczny chcemy przeanalizować jak zmieniała się kadra medyczna przez okres od 2010 roku do 2022."
   ]
  },
  {
   "cell_type": "code",
   "execution_count": 91,
   "metadata": {},
   "outputs": [],
   "source": [
    "def read_stats_folder(dir):\n",
    "    data = [pd.read_csv(fname, index_col=0) for fname in dir.iterdir()]\n",
    "    data = pd.concat(data, axis=1)\n",
    "    return data \n",
    "\n",
    "\n",
    "def plot_bdl_stats(dir):\n",
    "    data = read_stats_folder(dir)\n",
    "    data.plot.bar(figsize=(10,10), \n",
    "                grid=True,\n",
    "                title=f'{humanize(dir.name).capitalize()} variables')\n",
    "    "
   ]
  },
  {
   "cell_type": "code",
   "execution_count": 82,
   "metadata": {},
   "outputs": [
    {
     "name": "stdout",
     "output_type": "stream",
     "text": [
      "Folder with medical staff stats has idx 0\n",
      "Folder with midwives stats has idx 1\n",
      "Folder with nurses stats has idx 2\n",
      "Folder with rescuers stats has idx 3\n"
     ]
    }
   ],
   "source": [
    "folders_with_stats = list((data_dir / 'raw' / 'medical_staff_stats_bdl').iterdir())\n",
    "# Display stats that were collected from BDL\n",
    "for i, var_name in enumerate(f.stem for f in folders_with_stats):\n",
    "    print(f'Folder with {humanize(var_name)} stats has idx {i}')"
   ]
  },
  {
   "cell_type": "markdown",
   "metadata": {},
   "source": [
    "# Analiza danych dla lekarzy pracujących w szpitalach\n"
   ]
  },
  {
   "cell_type": "markdown",
   "metadata": {},
   "source": [
    "## Analiza liczebności"
   ]
  },
  {
   "cell_type": "code",
   "execution_count": 90,
   "metadata": {},
   "outputs": [
    {
     "data": {
      "image/png": "[encoded data removed]",
      "text/plain": [
       "<Figure size 720x720 with 1 Axes>"
      ]
     },
     "metadata": {
      "needs_background": "light"
     },
     "output_type": "display_data"
    }
   ],
   "source": [
    "STATS_FOLDER_IDX = 0\n",
    "plot_bdl_stats(folders_with_stats[STATS_FOLDER_IDX])\n"
   ]
  },
  {
   "cell_type": "markdown",
   "metadata": {},
   "source": [
    "Na powyższym wykresie widzimy wzrost liczby lekarzy w latach od 2010 do 2018. W 2016 tendencja się odwraca i liczba spada aż do 2018, po czym znowu się odwraca. Ostatni pomiar zrobiony w 2020 pokazuje, że liczba lekarzy jest prawie równa tej która była przed 2016 rokiem.\n",
    "Inną zauważalną cechą jest to, że większość lekarzy są mężczyznami. W dalszej części zostanie przeprowadzona trochę bardziej rzetelna analiza uzależniona od płci."
   ]
  },
  {
   "cell_type": "code",
   "execution_count": 103,
   "metadata": {},
   "outputs": [],
   "source": [
    "data = read_stats_folder(folders_with_stats[STATS_FOLDER_IDX])\n",
    "MEN_COLUMN = 'men_medical_staff'\n",
    "WOMEN_COLUMN = 'women_medical_staff'\n",
    "OVERALL_COLUMN = 'overall_medical_staff'"
   ]
  },
  {
   "cell_type": "markdown",
   "metadata": {},
   "source": [
    "## Analiza z podziałem na płeć"
   ]
  },
  {
   "cell_type": "code",
   "execution_count": 122,
   "metadata": {},
   "outputs": [
    {
     "name": "stdout",
     "output_type": "stream",
     "text": [
      "[2010] - men: 57 %, women: 43 %, abs(men % - women %): 14 %\n",
      "[2011] - men: 57 %, women: 43 %, abs(men % - women %): 14 %\n",
      "[2012] - men: 56 %, women: 44 %, abs(men % - women %): 12 %\n",
      "[2013] - men: 56 %, women: 44 %, abs(men % - women %): 12 %\n",
      "[2014] - men: 57 %, women: 43 %, abs(men % - women %): 14 %\n",
      "[2015] - men: 57 %, women: 43 %, abs(men % - women %): 14 %\n",
      "[2016] - men: 57 %, women: 43 %, abs(men % - women %): 14 %\n",
      "[2017] - men: 57 %, women: 43 %, abs(men % - women %): 14 %\n",
      "[2018] - men: 57 %, women: 43 %, abs(men % - women %): 14 %\n",
      "[2019] - men: 57 %, women: 43 %, abs(men % - women %): 14 %\n",
      "[2020] - men: 58 %, women: 42 %, abs(men % - women %): 16 %\n",
      "Women mode: 57 %\n",
      "Men mode: 43 %\n"
     ]
    }
   ],
   "source": [
    "from collections import defaultdict\n",
    "percentages = defaultdict(list)\n",
    "for year, row in  data.iterrows():\n",
    "    men_percentage = ((row[MEN_COLUMN] / row[OVERALL_COLUMN]) * 100).round().astype('int')\n",
    "    women_percentage = ((row[WOMEN_COLUMN] / row[OVERALL_COLUMN]) * 100).round().astype('int')\n",
    "    percentages[MEN_COLUMN].append(men_percentage)\n",
    "    percentages[WOMEN_COLUMN].append(women_percentage)\n",
    "    print(f'[{year}] - men: {men_percentage} %, women: {women_percentage} %, abs(men % - women %): {abs(men_percentage - women_percentage)} %')\n",
    "\n",
    "print(f'Women mode: {stats.mode(percentages[MEN_COLUMN]).mode[0]} %')\n",
    "print(f'Men mode: {stats.mode(percentages[WOMEN_COLUMN]).mode[0]} %')"
   ]
  },
  {
   "cell_type": "markdown",
   "metadata": {},
   "source": [
    "Wnioski wynikające z powyższego podsumowania:\n",
    "- procentowy udział mężczyzn jest zawsze conajmniej o 11 % większy od udziału kobiet\n",
    "- przez okres 10 badanych lat nie było dużych zmian w procentowym udziale żadnej z płci. Pomiary oscylowały wokół wartości 57% dla mężczyzn oraz 43% dla kobiet.\n",
    "- oscylacje nie są skorelowane z zmianami trendów wśród liczby lekarzy. W celach przypomnienienia powiem, że zmiany trendów liczebności były spostrzegane w 2016 oraz 2018 latach. Natomiast oscylacje w procentowym udziale widzimy w 2012, 2013 oraz 2020."
   ]
  },
  {
   "cell_type": "markdown",
   "metadata": {},
   "source": [
    "## Dalsze pytania\n",
    "\n",
    "Po wykonaniu powyższej analizy pojawiają się następujące sensowne pytania:\n",
    "\n",
    "- dlaczego procentowy udział kobiet jest mniejszy od procentowego udziały mężczyzn?\n",
    "- dlaczego wiedzieliśmy odwrócenie trendu wzrostu wśród lekarzy w 2016 oraz 2018 latach?\n",
    "\n",
    "W dalszych sekcjach będzie podjęta próba odpowiedzi na te pytania."
   ]
  },
  {
   "cell_type": "markdown",
   "metadata": {},
   "source": [
    "# Dlaczego procentowy udział kobiet jest mniejszy od procentowego udziały mężczyzn?\n"
   ]
  },
  {
   "cell_type": "markdown",
   "metadata": {},
   "source": [
    "## Demograficzny skład Polski \n",
    "\n",
    "Możliwe, że powód takiego podziału jest naturalny i wynika z demograficznego składu Polski. "
   ]
  },
  {
   "cell_type": "code",
   "execution_count": 141,
   "metadata": {},
   "outputs": [
    {
     "data": {
      "image/png": "[encoded data removed]",
      "text/plain": [
       "<Figure size 720x720 with 1 Axes>"
      ]
     },
     "metadata": {
      "needs_background": "light"
     },
     "output_type": "display_data"
    }
   ],
   "source": [
    "population_structure_over_years = pd.read_csv(data_dir / 'external' / 'ludnosc_wg_plci_w_wieku_produkcyjnym.csv', index_col=0)\n",
    "\n",
    "_ = population_structure_over_years.plot.bar(\n",
    "    figsize=(10, 10),\n",
    "    title='Population in working age structure based on sex',\n",
    "    grid=True,\n",
    ")"
   ]
  },
  {
   "cell_type": "markdown",
   "metadata": {},
   "source": [
    "Powyższy wykres uwzględnia tylko ludzi w wieku produkcyjnym (czyli mężczyzn od 18 do 64 lat oraz kobiet od 18 do 59).\n",
    "Z wykresu jasno widać, że mężczyzn w spółeczeństwie jest więcej co tłumaczy dlaczego zawód lekarza jest bardziej popularny wśród mężczyzn niż wśród kobiet. \n",
    "\n",
    "Nie mniej jednak, ten wykres robi tylko ciekawszym pytanie o tym dlaczego widzieliśmy zmiany trendu w 2016 oraz 2018 latach, oraz pytanie dlaczego widzimy w danych rosnący trend, ponieważ widzimy, że liczba osób w wieku produkcyjnym maleje przez cały badany okres."
   ]
  }
 ],
 "metadata": {
  "interpreter": {
   "hash": "e8b4d4da430775f898a8f023f50a1a0d3118352757845b449d2a0351d5961cd4"
  },
  "kernelspec": {
   "display_name": "Python 3.8.8 ('base')",
   "language": "python",
   "name": "python3"
  },
  "language_info": {
   "codemirror_mode": {
    "name": "ipython",
    "version": 3
   },
   "file_extension": ".py",
   "mimetype": "text/x-python",
   "name": "python",
   "nbconvert_exporter": "python",
   "pygments_lexer": "ipython3",
   "version": "3.9.0"
  },
  "orig_nbformat": 4
 },
 "nbformat": 4,
 "nbformat_minor": 2
}
